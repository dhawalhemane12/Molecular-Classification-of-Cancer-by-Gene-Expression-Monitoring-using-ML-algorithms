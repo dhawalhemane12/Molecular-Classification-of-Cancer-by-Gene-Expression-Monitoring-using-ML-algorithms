{
  "nbformat": 4,
  "nbformat_minor": 0,
  "metadata": {
    "colab": {
      "provenance": [],
      "collapsed_sections": [
        "eIPo0yoa10B7",
        "ddmL1q30c9Qz",
        "mEO5T9Ly5gsu",
        "EjZOArJXC4Cu",
        "vFU1od9lKM6W",
        "z-SYZp5GPSRd",
        "HPJBSPMQRdu9"
      ],
      "toc_visible": true
    },
    "kernelspec": {
      "name": "python3",
      "display_name": "Python 3"
    },
    "language_info": {
      "name": "python"
    }
  },
  "cells": [
    {
      "cell_type": "markdown",
      "source": [
        "# **Mini Project on Machine Learning Algorithms**\n",
        "\n",
        "## Topic: Molecular Classification of Cancer by Gene Expression Monitoring using various classification algorithms\n"
      ],
      "metadata": {
        "id": "LLsGr2RQ8L7-"
      }
    },
    {
      "cell_type": "markdown",
      "source": [
        "*Submitted By:*\n",
        "\n",
        "```markdown\n",
        "      Name         |   \n",
        "-------------------|\n",
        "DHAWAL HEMANE    |      \n",
        "\n",
        "```"
      ],
      "metadata": {
        "id": "Kz3MMj2hMxCH"
      }
    },
    {
      "cell_type": "markdown",
      "source": [
        "# **Application of Machine Leaning in Bio-Informatics**"
      ],
      "metadata": {
        "id": "q6FYjigqzDEN"
      }
    },
    {
      "cell_type": "markdown",
      "source": [
        "Bioinformatics is a field of study that uses computation to extract knowledge from biological data. It includes the collection, storage, retrieval, manipulation and modeling of data for analysis, visualization or prediction through the development of algorithms and software.\n",
        "\n",
        "We can quote it in a simpler way **“Bioinformatics deals with computational and mathematical approaches for understanding and processing biological data”**."
      ],
      "metadata": {
        "id": "bYZI_vqdyyV1"
      }
    },
    {
      "cell_type": "markdown",
      "source": [
        "\n",
        "\n",
        "\n",
        "\n",
        "\n",
        "\n",
        "\n",
        "\n",
        "\n",
        "\n",
        "\n",
        "\n",
        "### **Molecular Classification of Cancer by Gene Expression Monitoring using various classification algorithms**\n",
        "Although cancer classification has improved over the past 30 years, there has been no general approach for identifying new cancer classes (class discovery) or for assigning tumors to known classes (class prediction). The dataset comes from a proof-of-concept study published in 1999 by Golub et al. It showed how new cases of cancer could be classified by gene expression monitoring (via DNA microarray) and thereby provided a general approach for identifying new cancer classes and assigning tumors to known classes.\n",
        "\n",
        "The goal is to classify patients with Acute Myeloid Leukemia (AML) and Acute Lymphoblastic Leukemia (ALL) using various classifiction algorithms."
      ],
      "metadata": {
        "id": "TsuxwZxYzS1A"
      }
    },
    {
      "cell_type": "code",
      "source": [
        "#Importing Libraries\n",
        "import pandas as pd\n",
        "import numpy as np\n",
        "import matplotlib.pyplot as plt\n",
        "import seaborn as sns"
      ],
      "metadata": {
        "id": "pkPpBw2-zp-d"
      },
      "execution_count": null,
      "outputs": []
    },
    {
      "cell_type": "code",
      "source": [
        "#Loading the Datasets\n",
        "Train_Data = pd.read_csv(\"https://raw.githubusercontent.com/Ajinkya626/Datasets/main/data_set_ALL_AML_train.csv\")\n",
        "Test_Data = pd.read_csv(\"https://raw.githubusercontent.com/Ajinkya626/Datasets/main/data_set_ALL_AML_independent.csv\")\n",
        "labels = pd.read_csv(\"https://raw.githubusercontent.com/Ajinkya626/Datasets/main/actual.csv\", index_col = 'patient')\n",
        "Train_Data.head()"
      ],
      "metadata": {
        "colab": {
          "base_uri": "https://localhost:8080/",
          "height": 383
        },
        "id": "XvSi3AIk0x1j",
        "outputId": "9c3f960e-eb2b-4f9c-e665-a7cfb9118481"
      },
      "execution_count": null,
      "outputs": [
        {
          "output_type": "execute_result",
          "data": {
            "text/plain": [
              "                      Gene Description Gene Accession Number    1 call    2  \\\n",
              "0  AFFX-BioB-5_at (endogenous control)        AFFX-BioB-5_at -214    A -139   \n",
              "1  AFFX-BioB-M_at (endogenous control)        AFFX-BioB-M_at -153    A  -73   \n",
              "2  AFFX-BioB-3_at (endogenous control)        AFFX-BioB-3_at  -58    A   -1   \n",
              "3  AFFX-BioC-5_at (endogenous control)        AFFX-BioC-5_at   88    A  283   \n",
              "4  AFFX-BioC-3_at (endogenous control)        AFFX-BioC-3_at -295    A -264   \n",
              "\n",
              "  call.1    3 call.2    4 call.3  ...   29 call.33   30 call.34   31 call.35  \\\n",
              "0      A  -76      A -135      A  ...   15       A -318       A  -32       A   \n",
              "1      A  -49      A -114      A  ... -114       A -192       A  -49       A   \n",
              "2      A -307      A  265      A  ...    2       A  -95       A   49       A   \n",
              "3      A  309      A   12      A  ...  193       A  312       A  230       P   \n",
              "4      A -376      A -419      A  ...  -51       A -139       A -367       A   \n",
              "\n",
              "    32 call.36   33 call.37  \n",
              "0 -124       A -135       A  \n",
              "1  -79       A -186       A  \n",
              "2  -37       A  -70       A  \n",
              "3  330       A  337       A  \n",
              "4 -188       A -407       A  \n",
              "\n",
              "[5 rows x 78 columns]"
            ],
            "text/html": [
              "\n",
              "  <div id=\"df-c758d6f9-f255-4912-b237-f1dfec4315aa\">\n",
              "    <div class=\"colab-df-container\">\n",
              "      <div>\n",
              "<style scoped>\n",
              "    .dataframe tbody tr th:only-of-type {\n",
              "        vertical-align: middle;\n",
              "    }\n",
              "\n",
              "    .dataframe tbody tr th {\n",
              "        vertical-align: top;\n",
              "    }\n",
              "\n",
              "    .dataframe thead th {\n",
              "        text-align: right;\n",
              "    }\n",
              "</style>\n",
              "<table border=\"1\" class=\"dataframe\">\n",
              "  <thead>\n",
              "    <tr style=\"text-align: right;\">\n",
              "      <th></th>\n",
              "      <th>Gene Description</th>\n",
              "      <th>Gene Accession Number</th>\n",
              "      <th>1</th>\n",
              "      <th>call</th>\n",
              "      <th>2</th>\n",
              "      <th>call.1</th>\n",
              "      <th>3</th>\n",
              "      <th>call.2</th>\n",
              "      <th>4</th>\n",
              "      <th>call.3</th>\n",
              "      <th>...</th>\n",
              "      <th>29</th>\n",
              "      <th>call.33</th>\n",
              "      <th>30</th>\n",
              "      <th>call.34</th>\n",
              "      <th>31</th>\n",
              "      <th>call.35</th>\n",
              "      <th>32</th>\n",
              "      <th>call.36</th>\n",
              "      <th>33</th>\n",
              "      <th>call.37</th>\n",
              "    </tr>\n",
              "  </thead>\n",
              "  <tbody>\n",
              "    <tr>\n",
              "      <th>0</th>\n",
              "      <td>AFFX-BioB-5_at (endogenous control)</td>\n",
              "      <td>AFFX-BioB-5_at</td>\n",
              "      <td>-214</td>\n",
              "      <td>A</td>\n",
              "      <td>-139</td>\n",
              "      <td>A</td>\n",
              "      <td>-76</td>\n",
              "      <td>A</td>\n",
              "      <td>-135</td>\n",
              "      <td>A</td>\n",
              "      <td>...</td>\n",
              "      <td>15</td>\n",
              "      <td>A</td>\n",
              "      <td>-318</td>\n",
              "      <td>A</td>\n",
              "      <td>-32</td>\n",
              "      <td>A</td>\n",
              "      <td>-124</td>\n",
              "      <td>A</td>\n",
              "      <td>-135</td>\n",
              "      <td>A</td>\n",
              "    </tr>\n",
              "    <tr>\n",
              "      <th>1</th>\n",
              "      <td>AFFX-BioB-M_at (endogenous control)</td>\n",
              "      <td>AFFX-BioB-M_at</td>\n",
              "      <td>-153</td>\n",
              "      <td>A</td>\n",
              "      <td>-73</td>\n",
              "      <td>A</td>\n",
              "      <td>-49</td>\n",
              "      <td>A</td>\n",
              "      <td>-114</td>\n",
              "      <td>A</td>\n",
              "      <td>...</td>\n",
              "      <td>-114</td>\n",
              "      <td>A</td>\n",
              "      <td>-192</td>\n",
              "      <td>A</td>\n",
              "      <td>-49</td>\n",
              "      <td>A</td>\n",
              "      <td>-79</td>\n",
              "      <td>A</td>\n",
              "      <td>-186</td>\n",
              "      <td>A</td>\n",
              "    </tr>\n",
              "    <tr>\n",
              "      <th>2</th>\n",
              "      <td>AFFX-BioB-3_at (endogenous control)</td>\n",
              "      <td>AFFX-BioB-3_at</td>\n",
              "      <td>-58</td>\n",
              "      <td>A</td>\n",
              "      <td>-1</td>\n",
              "      <td>A</td>\n",
              "      <td>-307</td>\n",
              "      <td>A</td>\n",
              "      <td>265</td>\n",
              "      <td>A</td>\n",
              "      <td>...</td>\n",
              "      <td>2</td>\n",
              "      <td>A</td>\n",
              "      <td>-95</td>\n",
              "      <td>A</td>\n",
              "      <td>49</td>\n",
              "      <td>A</td>\n",
              "      <td>-37</td>\n",
              "      <td>A</td>\n",
              "      <td>-70</td>\n",
              "      <td>A</td>\n",
              "    </tr>\n",
              "    <tr>\n",
              "      <th>3</th>\n",
              "      <td>AFFX-BioC-5_at (endogenous control)</td>\n",
              "      <td>AFFX-BioC-5_at</td>\n",
              "      <td>88</td>\n",
              "      <td>A</td>\n",
              "      <td>283</td>\n",
              "      <td>A</td>\n",
              "      <td>309</td>\n",
              "      <td>A</td>\n",
              "      <td>12</td>\n",
              "      <td>A</td>\n",
              "      <td>...</td>\n",
              "      <td>193</td>\n",
              "      <td>A</td>\n",
              "      <td>312</td>\n",
              "      <td>A</td>\n",
              "      <td>230</td>\n",
              "      <td>P</td>\n",
              "      <td>330</td>\n",
              "      <td>A</td>\n",
              "      <td>337</td>\n",
              "      <td>A</td>\n",
              "    </tr>\n",
              "    <tr>\n",
              "      <th>4</th>\n",
              "      <td>AFFX-BioC-3_at (endogenous control)</td>\n",
              "      <td>AFFX-BioC-3_at</td>\n",
              "      <td>-295</td>\n",
              "      <td>A</td>\n",
              "      <td>-264</td>\n",
              "      <td>A</td>\n",
              "      <td>-376</td>\n",
              "      <td>A</td>\n",
              "      <td>-419</td>\n",
              "      <td>A</td>\n",
              "      <td>...</td>\n",
              "      <td>-51</td>\n",
              "      <td>A</td>\n",
              "      <td>-139</td>\n",
              "      <td>A</td>\n",
              "      <td>-367</td>\n",
              "      <td>A</td>\n",
              "      <td>-188</td>\n",
              "      <td>A</td>\n",
              "      <td>-407</td>\n",
              "      <td>A</td>\n",
              "    </tr>\n",
              "  </tbody>\n",
              "</table>\n",
              "<p>5 rows × 78 columns</p>\n",
              "</div>\n",
              "      <button class=\"colab-df-convert\" onclick=\"convertToInteractive('df-c758d6f9-f255-4912-b237-f1dfec4315aa')\"\n",
              "              title=\"Convert this dataframe to an interactive table.\"\n",
              "              style=\"display:none;\">\n",
              "        \n",
              "  <svg xmlns=\"http://www.w3.org/2000/svg\" height=\"24px\"viewBox=\"0 0 24 24\"\n",
              "       width=\"24px\">\n",
              "    <path d=\"M0 0h24v24H0V0z\" fill=\"none\"/>\n",
              "    <path d=\"M18.56 5.44l.94 2.06.94-2.06 2.06-.94-2.06-.94-.94-2.06-.94 2.06-2.06.94zm-11 1L8.5 8.5l.94-2.06 2.06-.94-2.06-.94L8.5 2.5l-.94 2.06-2.06.94zm10 10l.94 2.06.94-2.06 2.06-.94-2.06-.94-.94-2.06-.94 2.06-2.06.94z\"/><path d=\"M17.41 7.96l-1.37-1.37c-.4-.4-.92-.59-1.43-.59-.52 0-1.04.2-1.43.59L10.3 9.45l-7.72 7.72c-.78.78-.78 2.05 0 2.83L4 21.41c.39.39.9.59 1.41.59.51 0 1.02-.2 1.41-.59l7.78-7.78 2.81-2.81c.8-.78.8-2.07 0-2.86zM5.41 20L4 18.59l7.72-7.72 1.47 1.35L5.41 20z\"/>\n",
              "  </svg>\n",
              "      </button>\n",
              "      \n",
              "  <style>\n",
              "    .colab-df-container {\n",
              "      display:flex;\n",
              "      flex-wrap:wrap;\n",
              "      gap: 12px;\n",
              "    }\n",
              "\n",
              "    .colab-df-convert {\n",
              "      background-color: #E8F0FE;\n",
              "      border: none;\n",
              "      border-radius: 50%;\n",
              "      cursor: pointer;\n",
              "      display: none;\n",
              "      fill: #1967D2;\n",
              "      height: 32px;\n",
              "      padding: 0 0 0 0;\n",
              "      width: 32px;\n",
              "    }\n",
              "\n",
              "    .colab-df-convert:hover {\n",
              "      background-color: #E2EBFA;\n",
              "      box-shadow: 0px 1px 2px rgba(60, 64, 67, 0.3), 0px 1px 3px 1px rgba(60, 64, 67, 0.15);\n",
              "      fill: #174EA6;\n",
              "    }\n",
              "\n",
              "    [theme=dark] .colab-df-convert {\n",
              "      background-color: #3B4455;\n",
              "      fill: #D2E3FC;\n",
              "    }\n",
              "\n",
              "    [theme=dark] .colab-df-convert:hover {\n",
              "      background-color: #434B5C;\n",
              "      box-shadow: 0px 1px 3px 1px rgba(0, 0, 0, 0.15);\n",
              "      filter: drop-shadow(0px 1px 2px rgba(0, 0, 0, 0.3));\n",
              "      fill: #FFFFFF;\n",
              "    }\n",
              "  </style>\n",
              "\n",
              "      <script>\n",
              "        const buttonEl =\n",
              "          document.querySelector('#df-c758d6f9-f255-4912-b237-f1dfec4315aa button.colab-df-convert');\n",
              "        buttonEl.style.display =\n",
              "          google.colab.kernel.accessAllowed ? 'block' : 'none';\n",
              "\n",
              "        async function convertToInteractive(key) {\n",
              "          const element = document.querySelector('#df-c758d6f9-f255-4912-b237-f1dfec4315aa');\n",
              "          const dataTable =\n",
              "            await google.colab.kernel.invokeFunction('convertToInteractive',\n",
              "                                                     [key], {});\n",
              "          if (!dataTable) return;\n",
              "\n",
              "          const docLinkHtml = 'Like what you see? Visit the ' +\n",
              "            '<a target=\"_blank\" href=https://colab.research.google.com/notebooks/data_table.ipynb>data table notebook</a>'\n",
              "            + ' to learn more about interactive tables.';\n",
              "          element.innerHTML = '';\n",
              "          dataTable['output_type'] = 'display_data';\n",
              "          await google.colab.output.renderOutput(dataTable, element);\n",
              "          const docLink = document.createElement('div');\n",
              "          docLink.innerHTML = docLinkHtml;\n",
              "          element.appendChild(docLink);\n",
              "        }\n",
              "      </script>\n",
              "    </div>\n",
              "  </div>\n",
              "  "
            ]
          },
          "metadata": {},
          "execution_count": 72
        }
      ]
    },
    {
      "cell_type": "code",
      "source": [
        "Train_Data.describe()"
      ],
      "metadata": {
        "colab": {
          "base_uri": "https://localhost:8080/",
          "height": 394
        },
        "id": "LkKGL_Bflz6T",
        "outputId": "ff9bfd91-46ad-4080-e14d-b8684e537176"
      },
      "execution_count": null,
      "outputs": [
        {
          "output_type": "execute_result",
          "data": {
            "text/plain": [
              "                  1             2             3             4             5  \\\n",
              "count   7129.000000   7129.000000   7129.000000   7129.000000   7129.000000   \n",
              "mean     641.367092    690.246318    698.307897    600.985271    679.532894   \n",
              "std     2264.294361   2468.814372   2485.656277   2340.047428   2375.895416   \n",
              "min   -19826.000000 -17930.000000 -27182.000000 -23396.000000 -10339.000000   \n",
              "25%      -21.000000    -14.000000    -31.000000    -33.000000      8.000000   \n",
              "50%      159.000000    130.000000    177.000000    139.000000    146.000000   \n",
              "75%      535.000000    488.000000    610.000000    497.000000    471.000000   \n",
              "max    31086.000000  29288.000000  28056.000000  31449.000000  29543.000000   \n",
              "\n",
              "                  6             7             8             9            10  \\\n",
              "count   7129.000000   7129.000000   7129.000000   7129.000000   7129.000000   \n",
              "mean     564.797728    584.437649    571.359097    789.713705    599.483097   \n",
              "std     2494.604090   2412.812263   2378.780450   2580.157021   2421.156219   \n",
              "min   -21658.000000 -24024.000000 -27570.000000 -25171.000000 -12500.000000   \n",
              "25%      -26.000000    -33.000000    -58.000000    -14.000000    -15.000000   \n",
              "50%      106.000000    134.000000    140.000000    166.000000    103.000000   \n",
              "75%      401.000000    497.000000    527.000000    609.000000    386.000000   \n",
              "max    38467.000000  41911.000000  40065.000000  23602.000000  28033.000000   \n",
              "\n",
              "       ...            35            36            37            38  \\\n",
              "count  ...   7129.000000   7129.000000   7129.000000   7129.000000   \n",
              "mean   ...    514.496704    775.143498    689.248141    626.885959   \n",
              "std    ...   2440.722824   2676.664777   2543.537830   2473.180838   \n",
              "min    ... -16281.000000 -27398.000000 -23673.000000 -23645.000000   \n",
              "25%    ...    -43.000000    -27.000000    -23.000000    -22.000000   \n",
              "50%    ...    108.000000    144.000000    134.000000    133.000000   \n",
              "75%    ...    396.000000    569.000000    505.000000    490.000000   \n",
              "max    ...  61228.000000  37164.000000  32204.000000  29169.000000   \n",
              "\n",
              "                 28            29            30            31            32  \\\n",
              "count   7129.000000   7129.000000   7129.000000   7129.000000   7129.000000   \n",
              "mean     673.279422    556.463179    718.934493    598.648899    676.920887   \n",
              "std     2413.149603   2376.681824   2533.678058   2405.268550   2436.964933   \n",
              "min   -20376.000000  -9501.000000 -17580.000000 -25491.000000 -28400.000000   \n",
              "25%      -16.000000    -13.000000    -25.000000    -32.000000    -22.000000   \n",
              "50%      150.000000     82.000000    128.000000    107.000000    155.000000   \n",
              "75%      517.000000    309.000000    488.000000    443.000000    549.000000   \n",
              "max    29833.000000  30354.000000  25055.000000  28350.000000  25093.000000   \n",
              "\n",
              "                 33  \n",
              "count   7129.000000  \n",
              "mean     723.563473  \n",
              "std     2507.382019  \n",
              "min   -27811.000000  \n",
              "25%      -38.000000  \n",
              "50%      170.000000  \n",
              "75%      649.000000  \n",
              "max    32946.000000  \n",
              "\n",
              "[8 rows x 38 columns]"
            ],
            "text/html": [
              "\n",
              "  <div id=\"df-01b76c67-60dd-4a9c-979e-dac2c38a0a20\">\n",
              "    <div class=\"colab-df-container\">\n",
              "      <div>\n",
              "<style scoped>\n",
              "    .dataframe tbody tr th:only-of-type {\n",
              "        vertical-align: middle;\n",
              "    }\n",
              "\n",
              "    .dataframe tbody tr th {\n",
              "        vertical-align: top;\n",
              "    }\n",
              "\n",
              "    .dataframe thead th {\n",
              "        text-align: right;\n",
              "    }\n",
              "</style>\n",
              "<table border=\"1\" class=\"dataframe\">\n",
              "  <thead>\n",
              "    <tr style=\"text-align: right;\">\n",
              "      <th></th>\n",
              "      <th>1</th>\n",
              "      <th>2</th>\n",
              "      <th>3</th>\n",
              "      <th>4</th>\n",
              "      <th>5</th>\n",
              "      <th>6</th>\n",
              "      <th>7</th>\n",
              "      <th>8</th>\n",
              "      <th>9</th>\n",
              "      <th>10</th>\n",
              "      <th>...</th>\n",
              "      <th>35</th>\n",
              "      <th>36</th>\n",
              "      <th>37</th>\n",
              "      <th>38</th>\n",
              "      <th>28</th>\n",
              "      <th>29</th>\n",
              "      <th>30</th>\n",
              "      <th>31</th>\n",
              "      <th>32</th>\n",
              "      <th>33</th>\n",
              "    </tr>\n",
              "  </thead>\n",
              "  <tbody>\n",
              "    <tr>\n",
              "      <th>count</th>\n",
              "      <td>7129.000000</td>\n",
              "      <td>7129.000000</td>\n",
              "      <td>7129.000000</td>\n",
              "      <td>7129.000000</td>\n",
              "      <td>7129.000000</td>\n",
              "      <td>7129.000000</td>\n",
              "      <td>7129.000000</td>\n",
              "      <td>7129.000000</td>\n",
              "      <td>7129.000000</td>\n",
              "      <td>7129.000000</td>\n",
              "      <td>...</td>\n",
              "      <td>7129.000000</td>\n",
              "      <td>7129.000000</td>\n",
              "      <td>7129.000000</td>\n",
              "      <td>7129.000000</td>\n",
              "      <td>7129.000000</td>\n",
              "      <td>7129.000000</td>\n",
              "      <td>7129.000000</td>\n",
              "      <td>7129.000000</td>\n",
              "      <td>7129.000000</td>\n",
              "      <td>7129.000000</td>\n",
              "    </tr>\n",
              "    <tr>\n",
              "      <th>mean</th>\n",
              "      <td>641.367092</td>\n",
              "      <td>690.246318</td>\n",
              "      <td>698.307897</td>\n",
              "      <td>600.985271</td>\n",
              "      <td>679.532894</td>\n",
              "      <td>564.797728</td>\n",
              "      <td>584.437649</td>\n",
              "      <td>571.359097</td>\n",
              "      <td>789.713705</td>\n",
              "      <td>599.483097</td>\n",
              "      <td>...</td>\n",
              "      <td>514.496704</td>\n",
              "      <td>775.143498</td>\n",
              "      <td>689.248141</td>\n",
              "      <td>626.885959</td>\n",
              "      <td>673.279422</td>\n",
              "      <td>556.463179</td>\n",
              "      <td>718.934493</td>\n",
              "      <td>598.648899</td>\n",
              "      <td>676.920887</td>\n",
              "      <td>723.563473</td>\n",
              "    </tr>\n",
              "    <tr>\n",
              "      <th>std</th>\n",
              "      <td>2264.294361</td>\n",
              "      <td>2468.814372</td>\n",
              "      <td>2485.656277</td>\n",
              "      <td>2340.047428</td>\n",
              "      <td>2375.895416</td>\n",
              "      <td>2494.604090</td>\n",
              "      <td>2412.812263</td>\n",
              "      <td>2378.780450</td>\n",
              "      <td>2580.157021</td>\n",
              "      <td>2421.156219</td>\n",
              "      <td>...</td>\n",
              "      <td>2440.722824</td>\n",
              "      <td>2676.664777</td>\n",
              "      <td>2543.537830</td>\n",
              "      <td>2473.180838</td>\n",
              "      <td>2413.149603</td>\n",
              "      <td>2376.681824</td>\n",
              "      <td>2533.678058</td>\n",
              "      <td>2405.268550</td>\n",
              "      <td>2436.964933</td>\n",
              "      <td>2507.382019</td>\n",
              "    </tr>\n",
              "    <tr>\n",
              "      <th>min</th>\n",
              "      <td>-19826.000000</td>\n",
              "      <td>-17930.000000</td>\n",
              "      <td>-27182.000000</td>\n",
              "      <td>-23396.000000</td>\n",
              "      <td>-10339.000000</td>\n",
              "      <td>-21658.000000</td>\n",
              "      <td>-24024.000000</td>\n",
              "      <td>-27570.000000</td>\n",
              "      <td>-25171.000000</td>\n",
              "      <td>-12500.000000</td>\n",
              "      <td>...</td>\n",
              "      <td>-16281.000000</td>\n",
              "      <td>-27398.000000</td>\n",
              "      <td>-23673.000000</td>\n",
              "      <td>-23645.000000</td>\n",
              "      <td>-20376.000000</td>\n",
              "      <td>-9501.000000</td>\n",
              "      <td>-17580.000000</td>\n",
              "      <td>-25491.000000</td>\n",
              "      <td>-28400.000000</td>\n",
              "      <td>-27811.000000</td>\n",
              "    </tr>\n",
              "    <tr>\n",
              "      <th>25%</th>\n",
              "      <td>-21.000000</td>\n",
              "      <td>-14.000000</td>\n",
              "      <td>-31.000000</td>\n",
              "      <td>-33.000000</td>\n",
              "      <td>8.000000</td>\n",
              "      <td>-26.000000</td>\n",
              "      <td>-33.000000</td>\n",
              "      <td>-58.000000</td>\n",
              "      <td>-14.000000</td>\n",
              "      <td>-15.000000</td>\n",
              "      <td>...</td>\n",
              "      <td>-43.000000</td>\n",
              "      <td>-27.000000</td>\n",
              "      <td>-23.000000</td>\n",
              "      <td>-22.000000</td>\n",
              "      <td>-16.000000</td>\n",
              "      <td>-13.000000</td>\n",
              "      <td>-25.000000</td>\n",
              "      <td>-32.000000</td>\n",
              "      <td>-22.000000</td>\n",
              "      <td>-38.000000</td>\n",
              "    </tr>\n",
              "    <tr>\n",
              "      <th>50%</th>\n",
              "      <td>159.000000</td>\n",
              "      <td>130.000000</td>\n",
              "      <td>177.000000</td>\n",
              "      <td>139.000000</td>\n",
              "      <td>146.000000</td>\n",
              "      <td>106.000000</td>\n",
              "      <td>134.000000</td>\n",
              "      <td>140.000000</td>\n",
              "      <td>166.000000</td>\n",
              "      <td>103.000000</td>\n",
              "      <td>...</td>\n",
              "      <td>108.000000</td>\n",
              "      <td>144.000000</td>\n",
              "      <td>134.000000</td>\n",
              "      <td>133.000000</td>\n",
              "      <td>150.000000</td>\n",
              "      <td>82.000000</td>\n",
              "      <td>128.000000</td>\n",
              "      <td>107.000000</td>\n",
              "      <td>155.000000</td>\n",
              "      <td>170.000000</td>\n",
              "    </tr>\n",
              "    <tr>\n",
              "      <th>75%</th>\n",
              "      <td>535.000000</td>\n",
              "      <td>488.000000</td>\n",
              "      <td>610.000000</td>\n",
              "      <td>497.000000</td>\n",
              "      <td>471.000000</td>\n",
              "      <td>401.000000</td>\n",
              "      <td>497.000000</td>\n",
              "      <td>527.000000</td>\n",
              "      <td>609.000000</td>\n",
              "      <td>386.000000</td>\n",
              "      <td>...</td>\n",
              "      <td>396.000000</td>\n",
              "      <td>569.000000</td>\n",
              "      <td>505.000000</td>\n",
              "      <td>490.000000</td>\n",
              "      <td>517.000000</td>\n",
              "      <td>309.000000</td>\n",
              "      <td>488.000000</td>\n",
              "      <td>443.000000</td>\n",
              "      <td>549.000000</td>\n",
              "      <td>649.000000</td>\n",
              "    </tr>\n",
              "    <tr>\n",
              "      <th>max</th>\n",
              "      <td>31086.000000</td>\n",
              "      <td>29288.000000</td>\n",
              "      <td>28056.000000</td>\n",
              "      <td>31449.000000</td>\n",
              "      <td>29543.000000</td>\n",
              "      <td>38467.000000</td>\n",
              "      <td>41911.000000</td>\n",
              "      <td>40065.000000</td>\n",
              "      <td>23602.000000</td>\n",
              "      <td>28033.000000</td>\n",
              "      <td>...</td>\n",
              "      <td>61228.000000</td>\n",
              "      <td>37164.000000</td>\n",
              "      <td>32204.000000</td>\n",
              "      <td>29169.000000</td>\n",
              "      <td>29833.000000</td>\n",
              "      <td>30354.000000</td>\n",
              "      <td>25055.000000</td>\n",
              "      <td>28350.000000</td>\n",
              "      <td>25093.000000</td>\n",
              "      <td>32946.000000</td>\n",
              "    </tr>\n",
              "  </tbody>\n",
              "</table>\n",
              "<p>8 rows × 38 columns</p>\n",
              "</div>\n",
              "      <button class=\"colab-df-convert\" onclick=\"convertToInteractive('df-01b76c67-60dd-4a9c-979e-dac2c38a0a20')\"\n",
              "              title=\"Convert this dataframe to an interactive table.\"\n",
              "              style=\"display:none;\">\n",
              "        \n",
              "  <svg xmlns=\"http://www.w3.org/2000/svg\" height=\"24px\"viewBox=\"0 0 24 24\"\n",
              "       width=\"24px\">\n",
              "    <path d=\"M0 0h24v24H0V0z\" fill=\"none\"/>\n",
              "    <path d=\"M18.56 5.44l.94 2.06.94-2.06 2.06-.94-2.06-.94-.94-2.06-.94 2.06-2.06.94zm-11 1L8.5 8.5l.94-2.06 2.06-.94-2.06-.94L8.5 2.5l-.94 2.06-2.06.94zm10 10l.94 2.06.94-2.06 2.06-.94-2.06-.94-.94-2.06-.94 2.06-2.06.94z\"/><path d=\"M17.41 7.96l-1.37-1.37c-.4-.4-.92-.59-1.43-.59-.52 0-1.04.2-1.43.59L10.3 9.45l-7.72 7.72c-.78.78-.78 2.05 0 2.83L4 21.41c.39.39.9.59 1.41.59.51 0 1.02-.2 1.41-.59l7.78-7.78 2.81-2.81c.8-.78.8-2.07 0-2.86zM5.41 20L4 18.59l7.72-7.72 1.47 1.35L5.41 20z\"/>\n",
              "  </svg>\n",
              "      </button>\n",
              "      \n",
              "  <style>\n",
              "    .colab-df-container {\n",
              "      display:flex;\n",
              "      flex-wrap:wrap;\n",
              "      gap: 12px;\n",
              "    }\n",
              "\n",
              "    .colab-df-convert {\n",
              "      background-color: #E8F0FE;\n",
              "      border: none;\n",
              "      border-radius: 50%;\n",
              "      cursor: pointer;\n",
              "      display: none;\n",
              "      fill: #1967D2;\n",
              "      height: 32px;\n",
              "      padding: 0 0 0 0;\n",
              "      width: 32px;\n",
              "    }\n",
              "\n",
              "    .colab-df-convert:hover {\n",
              "      background-color: #E2EBFA;\n",
              "      box-shadow: 0px 1px 2px rgba(60, 64, 67, 0.3), 0px 1px 3px 1px rgba(60, 64, 67, 0.15);\n",
              "      fill: #174EA6;\n",
              "    }\n",
              "\n",
              "    [theme=dark] .colab-df-convert {\n",
              "      background-color: #3B4455;\n",
              "      fill: #D2E3FC;\n",
              "    }\n",
              "\n",
              "    [theme=dark] .colab-df-convert:hover {\n",
              "      background-color: #434B5C;\n",
              "      box-shadow: 0px 1px 3px 1px rgba(0, 0, 0, 0.15);\n",
              "      filter: drop-shadow(0px 1px 2px rgba(0, 0, 0, 0.3));\n",
              "      fill: #FFFFFF;\n",
              "    }\n",
              "  </style>\n",
              "\n",
              "      <script>\n",
              "        const buttonEl =\n",
              "          document.querySelector('#df-01b76c67-60dd-4a9c-979e-dac2c38a0a20 button.colab-df-convert');\n",
              "        buttonEl.style.display =\n",
              "          google.colab.kernel.accessAllowed ? 'block' : 'none';\n",
              "\n",
              "        async function convertToInteractive(key) {\n",
              "          const element = document.querySelector('#df-01b76c67-60dd-4a9c-979e-dac2c38a0a20');\n",
              "          const dataTable =\n",
              "            await google.colab.kernel.invokeFunction('convertToInteractive',\n",
              "                                                     [key], {});\n",
              "          if (!dataTable) return;\n",
              "\n",
              "          const docLinkHtml = 'Like what you see? Visit the ' +\n",
              "            '<a target=\"_blank\" href=https://colab.research.google.com/notebooks/data_table.ipynb>data table notebook</a>'\n",
              "            + ' to learn more about interactive tables.';\n",
              "          element.innerHTML = '';\n",
              "          dataTable['output_type'] = 'display_data';\n",
              "          await google.colab.output.renderOutput(dataTable, element);\n",
              "          const docLink = document.createElement('div');\n",
              "          docLink.innerHTML = docLinkHtml;\n",
              "          element.appendChild(docLink);\n",
              "        }\n",
              "      </script>\n",
              "    </div>\n",
              "  </div>\n",
              "  "
            ]
          },
          "metadata": {},
          "execution_count": 73
        }
      ]
    },
    {
      "cell_type": "code",
      "source": [
        "Test_Data.head()"
      ],
      "metadata": {
        "colab": {
          "base_uri": "https://localhost:8080/",
          "height": 383
        },
        "id": "TYCGu54q1m9K",
        "outputId": "460ac999-d91d-4c3a-d4fa-ed89ea6d23ef"
      },
      "execution_count": null,
      "outputs": [
        {
          "output_type": "execute_result",
          "data": {
            "text/plain": [
              "                      Gene Description Gene Accession Number   39 call   40  \\\n",
              "0  AFFX-BioB-5_at (endogenous control)        AFFX-BioB-5_at -342    A  -87   \n",
              "1  AFFX-BioB-M_at (endogenous control)        AFFX-BioB-M_at -200    A -248   \n",
              "2  AFFX-BioB-3_at (endogenous control)        AFFX-BioB-3_at   41    A  262   \n",
              "3  AFFX-BioC-5_at (endogenous control)        AFFX-BioC-5_at  328    A  295   \n",
              "4  AFFX-BioC-3_at (endogenous control)        AFFX-BioC-3_at -224    A -226   \n",
              "\n",
              "  call.1   42 call.2   47 call.3  ...   65 call.29   66 call.30   63 call.31  \\\n",
              "0      A   22      A -243      A  ...  -62       A  -58       A -161       A   \n",
              "1      A -153      A -218      A  ... -198       A -217       A -215       A   \n",
              "2      A   17      A -163      A  ...   -5       A   63       A  -46       A   \n",
              "3      A  276      A  182      A  ...  141       A   95       A  146       A   \n",
              "4      A -211      A -289      A  ... -256       A -191       A -172       A   \n",
              "\n",
              "    64 call.32   62 call.33  \n",
              "0  -48       A -176       A  \n",
              "1 -531       A -284       A  \n",
              "2 -124       A  -81       A  \n",
              "3  431       A    9       A  \n",
              "4 -496       A -294       A  \n",
              "\n",
              "[5 rows x 70 columns]"
            ],
            "text/html": [
              "\n",
              "  <div id=\"df-1efa6f8d-1afd-4468-b10b-16f46db26e8a\">\n",
              "    <div class=\"colab-df-container\">\n",
              "      <div>\n",
              "<style scoped>\n",
              "    .dataframe tbody tr th:only-of-type {\n",
              "        vertical-align: middle;\n",
              "    }\n",
              "\n",
              "    .dataframe tbody tr th {\n",
              "        vertical-align: top;\n",
              "    }\n",
              "\n",
              "    .dataframe thead th {\n",
              "        text-align: right;\n",
              "    }\n",
              "</style>\n",
              "<table border=\"1\" class=\"dataframe\">\n",
              "  <thead>\n",
              "    <tr style=\"text-align: right;\">\n",
              "      <th></th>\n",
              "      <th>Gene Description</th>\n",
              "      <th>Gene Accession Number</th>\n",
              "      <th>39</th>\n",
              "      <th>call</th>\n",
              "      <th>40</th>\n",
              "      <th>call.1</th>\n",
              "      <th>42</th>\n",
              "      <th>call.2</th>\n",
              "      <th>47</th>\n",
              "      <th>call.3</th>\n",
              "      <th>...</th>\n",
              "      <th>65</th>\n",
              "      <th>call.29</th>\n",
              "      <th>66</th>\n",
              "      <th>call.30</th>\n",
              "      <th>63</th>\n",
              "      <th>call.31</th>\n",
              "      <th>64</th>\n",
              "      <th>call.32</th>\n",
              "      <th>62</th>\n",
              "      <th>call.33</th>\n",
              "    </tr>\n",
              "  </thead>\n",
              "  <tbody>\n",
              "    <tr>\n",
              "      <th>0</th>\n",
              "      <td>AFFX-BioB-5_at (endogenous control)</td>\n",
              "      <td>AFFX-BioB-5_at</td>\n",
              "      <td>-342</td>\n",
              "      <td>A</td>\n",
              "      <td>-87</td>\n",
              "      <td>A</td>\n",
              "      <td>22</td>\n",
              "      <td>A</td>\n",
              "      <td>-243</td>\n",
              "      <td>A</td>\n",
              "      <td>...</td>\n",
              "      <td>-62</td>\n",
              "      <td>A</td>\n",
              "      <td>-58</td>\n",
              "      <td>A</td>\n",
              "      <td>-161</td>\n",
              "      <td>A</td>\n",
              "      <td>-48</td>\n",
              "      <td>A</td>\n",
              "      <td>-176</td>\n",
              "      <td>A</td>\n",
              "    </tr>\n",
              "    <tr>\n",
              "      <th>1</th>\n",
              "      <td>AFFX-BioB-M_at (endogenous control)</td>\n",
              "      <td>AFFX-BioB-M_at</td>\n",
              "      <td>-200</td>\n",
              "      <td>A</td>\n",
              "      <td>-248</td>\n",
              "      <td>A</td>\n",
              "      <td>-153</td>\n",
              "      <td>A</td>\n",
              "      <td>-218</td>\n",
              "      <td>A</td>\n",
              "      <td>...</td>\n",
              "      <td>-198</td>\n",
              "      <td>A</td>\n",
              "      <td>-217</td>\n",
              "      <td>A</td>\n",
              "      <td>-215</td>\n",
              "      <td>A</td>\n",
              "      <td>-531</td>\n",
              "      <td>A</td>\n",
              "      <td>-284</td>\n",
              "      <td>A</td>\n",
              "    </tr>\n",
              "    <tr>\n",
              "      <th>2</th>\n",
              "      <td>AFFX-BioB-3_at (endogenous control)</td>\n",
              "      <td>AFFX-BioB-3_at</td>\n",
              "      <td>41</td>\n",
              "      <td>A</td>\n",
              "      <td>262</td>\n",
              "      <td>A</td>\n",
              "      <td>17</td>\n",
              "      <td>A</td>\n",
              "      <td>-163</td>\n",
              "      <td>A</td>\n",
              "      <td>...</td>\n",
              "      <td>-5</td>\n",
              "      <td>A</td>\n",
              "      <td>63</td>\n",
              "      <td>A</td>\n",
              "      <td>-46</td>\n",
              "      <td>A</td>\n",
              "      <td>-124</td>\n",
              "      <td>A</td>\n",
              "      <td>-81</td>\n",
              "      <td>A</td>\n",
              "    </tr>\n",
              "    <tr>\n",
              "      <th>3</th>\n",
              "      <td>AFFX-BioC-5_at (endogenous control)</td>\n",
              "      <td>AFFX-BioC-5_at</td>\n",
              "      <td>328</td>\n",
              "      <td>A</td>\n",
              "      <td>295</td>\n",
              "      <td>A</td>\n",
              "      <td>276</td>\n",
              "      <td>A</td>\n",
              "      <td>182</td>\n",
              "      <td>A</td>\n",
              "      <td>...</td>\n",
              "      <td>141</td>\n",
              "      <td>A</td>\n",
              "      <td>95</td>\n",
              "      <td>A</td>\n",
              "      <td>146</td>\n",
              "      <td>A</td>\n",
              "      <td>431</td>\n",
              "      <td>A</td>\n",
              "      <td>9</td>\n",
              "      <td>A</td>\n",
              "    </tr>\n",
              "    <tr>\n",
              "      <th>4</th>\n",
              "      <td>AFFX-BioC-3_at (endogenous control)</td>\n",
              "      <td>AFFX-BioC-3_at</td>\n",
              "      <td>-224</td>\n",
              "      <td>A</td>\n",
              "      <td>-226</td>\n",
              "      <td>A</td>\n",
              "      <td>-211</td>\n",
              "      <td>A</td>\n",
              "      <td>-289</td>\n",
              "      <td>A</td>\n",
              "      <td>...</td>\n",
              "      <td>-256</td>\n",
              "      <td>A</td>\n",
              "      <td>-191</td>\n",
              "      <td>A</td>\n",
              "      <td>-172</td>\n",
              "      <td>A</td>\n",
              "      <td>-496</td>\n",
              "      <td>A</td>\n",
              "      <td>-294</td>\n",
              "      <td>A</td>\n",
              "    </tr>\n",
              "  </tbody>\n",
              "</table>\n",
              "<p>5 rows × 70 columns</p>\n",
              "</div>\n",
              "      <button class=\"colab-df-convert\" onclick=\"convertToInteractive('df-1efa6f8d-1afd-4468-b10b-16f46db26e8a')\"\n",
              "              title=\"Convert this dataframe to an interactive table.\"\n",
              "              style=\"display:none;\">\n",
              "        \n",
              "  <svg xmlns=\"http://www.w3.org/2000/svg\" height=\"24px\"viewBox=\"0 0 24 24\"\n",
              "       width=\"24px\">\n",
              "    <path d=\"M0 0h24v24H0V0z\" fill=\"none\"/>\n",
              "    <path d=\"M18.56 5.44l.94 2.06.94-2.06 2.06-.94-2.06-.94-.94-2.06-.94 2.06-2.06.94zm-11 1L8.5 8.5l.94-2.06 2.06-.94-2.06-.94L8.5 2.5l-.94 2.06-2.06.94zm10 10l.94 2.06.94-2.06 2.06-.94-2.06-.94-.94-2.06-.94 2.06-2.06.94z\"/><path d=\"M17.41 7.96l-1.37-1.37c-.4-.4-.92-.59-1.43-.59-.52 0-1.04.2-1.43.59L10.3 9.45l-7.72 7.72c-.78.78-.78 2.05 0 2.83L4 21.41c.39.39.9.59 1.41.59.51 0 1.02-.2 1.41-.59l7.78-7.78 2.81-2.81c.8-.78.8-2.07 0-2.86zM5.41 20L4 18.59l7.72-7.72 1.47 1.35L5.41 20z\"/>\n",
              "  </svg>\n",
              "      </button>\n",
              "      \n",
              "  <style>\n",
              "    .colab-df-container {\n",
              "      display:flex;\n",
              "      flex-wrap:wrap;\n",
              "      gap: 12px;\n",
              "    }\n",
              "\n",
              "    .colab-df-convert {\n",
              "      background-color: #E8F0FE;\n",
              "      border: none;\n",
              "      border-radius: 50%;\n",
              "      cursor: pointer;\n",
              "      display: none;\n",
              "      fill: #1967D2;\n",
              "      height: 32px;\n",
              "      padding: 0 0 0 0;\n",
              "      width: 32px;\n",
              "    }\n",
              "\n",
              "    .colab-df-convert:hover {\n",
              "      background-color: #E2EBFA;\n",
              "      box-shadow: 0px 1px 2px rgba(60, 64, 67, 0.3), 0px 1px 3px 1px rgba(60, 64, 67, 0.15);\n",
              "      fill: #174EA6;\n",
              "    }\n",
              "\n",
              "    [theme=dark] .colab-df-convert {\n",
              "      background-color: #3B4455;\n",
              "      fill: #D2E3FC;\n",
              "    }\n",
              "\n",
              "    [theme=dark] .colab-df-convert:hover {\n",
              "      background-color: #434B5C;\n",
              "      box-shadow: 0px 1px 3px 1px rgba(0, 0, 0, 0.15);\n",
              "      filter: drop-shadow(0px 1px 2px rgba(0, 0, 0, 0.3));\n",
              "      fill: #FFFFFF;\n",
              "    }\n",
              "  </style>\n",
              "\n",
              "      <script>\n",
              "        const buttonEl =\n",
              "          document.querySelector('#df-1efa6f8d-1afd-4468-b10b-16f46db26e8a button.colab-df-convert');\n",
              "        buttonEl.style.display =\n",
              "          google.colab.kernel.accessAllowed ? 'block' : 'none';\n",
              "\n",
              "        async function convertToInteractive(key) {\n",
              "          const element = document.querySelector('#df-1efa6f8d-1afd-4468-b10b-16f46db26e8a');\n",
              "          const dataTable =\n",
              "            await google.colab.kernel.invokeFunction('convertToInteractive',\n",
              "                                                     [key], {});\n",
              "          if (!dataTable) return;\n",
              "\n",
              "          const docLinkHtml = 'Like what you see? Visit the ' +\n",
              "            '<a target=\"_blank\" href=https://colab.research.google.com/notebooks/data_table.ipynb>data table notebook</a>'\n",
              "            + ' to learn more about interactive tables.';\n",
              "          element.innerHTML = '';\n",
              "          dataTable['output_type'] = 'display_data';\n",
              "          await google.colab.output.renderOutput(dataTable, element);\n",
              "          const docLink = document.createElement('div');\n",
              "          docLink.innerHTML = docLinkHtml;\n",
              "          element.appendChild(docLink);\n",
              "        }\n",
              "      </script>\n",
              "    </div>\n",
              "  </div>\n",
              "  "
            ]
          },
          "metadata": {},
          "execution_count": 74
        }
      ]
    },
    {
      "cell_type": "markdown",
      "source": [
        "### **About the dataset:**\n",
        "\n",
        "Each row represents a different gene.Columns 1 and 2 are descriptions about that gene.\n",
        "Each numbered column is a patient in label data.\n",
        "Each patient has 7129 gene expression values — i.e each patient has one value for each gene.\n",
        "The training data contain gene expression values for patients 1 through 38.\n",
        "The test data contain gene expression values for patients 39 through 72"
      ],
      "metadata": {
        "id": "eIPo0yoa10B7"
      }
    },
    {
      "cell_type": "code",
      "source": [
        "#Check if there are any nulls in dataset(There are no nulls in our dataset)\n",
        "print(Train_Data.isna().sum().max())\n",
        "print(Test_Data.isna().sum().max())"
      ],
      "metadata": {
        "colab": {
          "base_uri": "https://localhost:8080/"
        },
        "id": "ToE9bSuV1t3z",
        "outputId": "8ce412bc-309d-4ef0-b1f4-c2b2f3c10ff0"
      },
      "execution_count": null,
      "outputs": [
        {
          "output_type": "stream",
          "name": "stdout",
          "text": [
            "0\n",
            "0\n"
          ]
        }
      ]
    },
    {
      "cell_type": "code",
      "source": [
        "#Deleting column call in both the dataset as it does not have any statistical referenece\n",
        "cols = [col for col in Test_Data.columns if 'call' in col]\n",
        "test = Test_Data.drop(cols, 1)\n",
        "cols = [col for col in Train_Data.columns if 'call' in col]\n",
        "train = Train_Data.drop(cols, 1)"
      ],
      "metadata": {
        "colab": {
          "base_uri": "https://localhost:8080/"
        },
        "id": "7q3psW-L2ed0",
        "outputId": "3aec710b-dec4-4ae5-dc4c-b70888ed86b3"
      },
      "execution_count": null,
      "outputs": [
        {
          "output_type": "stream",
          "name": "stderr",
          "text": [
            "/usr/local/lib/python3.7/dist-packages/ipykernel_launcher.py:3: FutureWarning: In a future version of pandas all arguments of DataFrame.drop except for the argument 'labels' will be keyword-only\n",
            "  This is separate from the ipykernel package so we can avoid doing imports until\n",
            "/usr/local/lib/python3.7/dist-packages/ipykernel_launcher.py:5: FutureWarning: In a future version of pandas all arguments of DataFrame.drop except for the argument 'labels' will be keyword-only\n",
            "  \"\"\"\n"
          ]
        }
      ]
    },
    {
      "cell_type": "code",
      "source": [
        "#Join All datasets and transform them\n",
        "patients = [str(i) for i in range(1, 73, 1)]\n",
        "df_All = pd.concat([train, test], axis = 1)[patients]\n",
        "df_all = df_All.T"
      ],
      "metadata": {
        "id": "yznxBrQS2u61"
      },
      "execution_count": null,
      "outputs": []
    },
    {
      "cell_type": "code",
      "source": [
        "#After transpose, the rows have been converted to columns(7129 columns/features)\n",
        "#Now convert patient column to a numeric value and create dummy variables\n",
        "#(converts categories into numeric values) \n",
        "#since ‘cancer’ is a cateogorical column having 2 categories(ALL, AML).\n",
        "df_all[\"patient\"] = pd.to_numeric(patients)\n",
        "labels[\"cancer\"]= pd.get_dummies(labels.cancer, drop_first=True)"
      ],
      "metadata": {
        "id": "5eThP6bm3Puc"
      },
      "execution_count": null,
      "outputs": []
    },
    {
      "cell_type": "code",
      "source": [
        "#Now join data frames df_all and labels on patient column.\n",
        "Data = pd.merge(df_all, labels, on=\"patient\")\n",
        "Data.head()"
      ],
      "metadata": {
        "colab": {
          "base_uri": "https://localhost:8080/"
        },
        "id": "1Ra_3ig63bop",
        "outputId": "7ce1e11f-cf4d-4785-bec6-d4a1a3f242e8"
      },
      "execution_count": null,
      "outputs": [
        {
          "output_type": "execute_result",
          "data": {
            "text/plain": [
              "     0    1    2    3    4    5    6    7    8    9  ...  7121  7122  7123  \\\n",
              "0 -214 -153  -58   88 -295 -558  199 -176  252  206  ...  -125   389   -37   \n",
              "1 -139  -73   -1  283 -264 -400 -330 -168  101   74  ...   -36   442   -17   \n",
              "2  -76  -49 -307  309 -376 -650   33 -367  206 -215  ...    33   168    52   \n",
              "3 -135 -114  265   12 -419 -585  158 -253   49   31  ...   218   174  -110   \n",
              "4 -106 -125  -76  168 -230 -284    4 -122   70  252  ...    57   504   -26   \n",
              "\n",
              "   7124  7125  7126  7127  7128  patient  cancer  \n",
              "0   793   329    36   191   -37        1       0  \n",
              "1   782   295    11    76   -14        2       0  \n",
              "2  1138   777    41   228   -41        3       0  \n",
              "3   627   170   -50   126   -91        4       0  \n",
              "4   250   314    14    56   -25        5       0  \n",
              "\n",
              "[5 rows x 7131 columns]"
            ],
            "text/html": [
              "\n",
              "  <div id=\"df-55f33e5d-5539-4185-b83b-1115ae718908\">\n",
              "    <div class=\"colab-df-container\">\n",
              "      <div>\n",
              "<style scoped>\n",
              "    .dataframe tbody tr th:only-of-type {\n",
              "        vertical-align: middle;\n",
              "    }\n",
              "\n",
              "    .dataframe tbody tr th {\n",
              "        vertical-align: top;\n",
              "    }\n",
              "\n",
              "    .dataframe thead th {\n",
              "        text-align: right;\n",
              "    }\n",
              "</style>\n",
              "<table border=\"1\" class=\"dataframe\">\n",
              "  <thead>\n",
              "    <tr style=\"text-align: right;\">\n",
              "      <th></th>\n",
              "      <th>0</th>\n",
              "      <th>1</th>\n",
              "      <th>2</th>\n",
              "      <th>3</th>\n",
              "      <th>4</th>\n",
              "      <th>5</th>\n",
              "      <th>6</th>\n",
              "      <th>7</th>\n",
              "      <th>8</th>\n",
              "      <th>9</th>\n",
              "      <th>...</th>\n",
              "      <th>7121</th>\n",
              "      <th>7122</th>\n",
              "      <th>7123</th>\n",
              "      <th>7124</th>\n",
              "      <th>7125</th>\n",
              "      <th>7126</th>\n",
              "      <th>7127</th>\n",
              "      <th>7128</th>\n",
              "      <th>patient</th>\n",
              "      <th>cancer</th>\n",
              "    </tr>\n",
              "  </thead>\n",
              "  <tbody>\n",
              "    <tr>\n",
              "      <th>0</th>\n",
              "      <td>-214</td>\n",
              "      <td>-153</td>\n",
              "      <td>-58</td>\n",
              "      <td>88</td>\n",
              "      <td>-295</td>\n",
              "      <td>-558</td>\n",
              "      <td>199</td>\n",
              "      <td>-176</td>\n",
              "      <td>252</td>\n",
              "      <td>206</td>\n",
              "      <td>...</td>\n",
              "      <td>-125</td>\n",
              "      <td>389</td>\n",
              "      <td>-37</td>\n",
              "      <td>793</td>\n",
              "      <td>329</td>\n",
              "      <td>36</td>\n",
              "      <td>191</td>\n",
              "      <td>-37</td>\n",
              "      <td>1</td>\n",
              "      <td>0</td>\n",
              "    </tr>\n",
              "    <tr>\n",
              "      <th>1</th>\n",
              "      <td>-139</td>\n",
              "      <td>-73</td>\n",
              "      <td>-1</td>\n",
              "      <td>283</td>\n",
              "      <td>-264</td>\n",
              "      <td>-400</td>\n",
              "      <td>-330</td>\n",
              "      <td>-168</td>\n",
              "      <td>101</td>\n",
              "      <td>74</td>\n",
              "      <td>...</td>\n",
              "      <td>-36</td>\n",
              "      <td>442</td>\n",
              "      <td>-17</td>\n",
              "      <td>782</td>\n",
              "      <td>295</td>\n",
              "      <td>11</td>\n",
              "      <td>76</td>\n",
              "      <td>-14</td>\n",
              "      <td>2</td>\n",
              "      <td>0</td>\n",
              "    </tr>\n",
              "    <tr>\n",
              "      <th>2</th>\n",
              "      <td>-76</td>\n",
              "      <td>-49</td>\n",
              "      <td>-307</td>\n",
              "      <td>309</td>\n",
              "      <td>-376</td>\n",
              "      <td>-650</td>\n",
              "      <td>33</td>\n",
              "      <td>-367</td>\n",
              "      <td>206</td>\n",
              "      <td>-215</td>\n",
              "      <td>...</td>\n",
              "      <td>33</td>\n",
              "      <td>168</td>\n",
              "      <td>52</td>\n",
              "      <td>1138</td>\n",
              "      <td>777</td>\n",
              "      <td>41</td>\n",
              "      <td>228</td>\n",
              "      <td>-41</td>\n",
              "      <td>3</td>\n",
              "      <td>0</td>\n",
              "    </tr>\n",
              "    <tr>\n",
              "      <th>3</th>\n",
              "      <td>-135</td>\n",
              "      <td>-114</td>\n",
              "      <td>265</td>\n",
              "      <td>12</td>\n",
              "      <td>-419</td>\n",
              "      <td>-585</td>\n",
              "      <td>158</td>\n",
              "      <td>-253</td>\n",
              "      <td>49</td>\n",
              "      <td>31</td>\n",
              "      <td>...</td>\n",
              "      <td>218</td>\n",
              "      <td>174</td>\n",
              "      <td>-110</td>\n",
              "      <td>627</td>\n",
              "      <td>170</td>\n",
              "      <td>-50</td>\n",
              "      <td>126</td>\n",
              "      <td>-91</td>\n",
              "      <td>4</td>\n",
              "      <td>0</td>\n",
              "    </tr>\n",
              "    <tr>\n",
              "      <th>4</th>\n",
              "      <td>-106</td>\n",
              "      <td>-125</td>\n",
              "      <td>-76</td>\n",
              "      <td>168</td>\n",
              "      <td>-230</td>\n",
              "      <td>-284</td>\n",
              "      <td>4</td>\n",
              "      <td>-122</td>\n",
              "      <td>70</td>\n",
              "      <td>252</td>\n",
              "      <td>...</td>\n",
              "      <td>57</td>\n",
              "      <td>504</td>\n",
              "      <td>-26</td>\n",
              "      <td>250</td>\n",
              "      <td>314</td>\n",
              "      <td>14</td>\n",
              "      <td>56</td>\n",
              "      <td>-25</td>\n",
              "      <td>5</td>\n",
              "      <td>0</td>\n",
              "    </tr>\n",
              "  </tbody>\n",
              "</table>\n",
              "<p>5 rows × 7131 columns</p>\n",
              "</div>\n",
              "      <button class=\"colab-df-convert\" onclick=\"convertToInteractive('df-55f33e5d-5539-4185-b83b-1115ae718908')\"\n",
              "              title=\"Convert this dataframe to an interactive table.\"\n",
              "              style=\"display:none;\">\n",
              "        \n",
              "  <svg xmlns=\"http://www.w3.org/2000/svg\" height=\"24px\"viewBox=\"0 0 24 24\"\n",
              "       width=\"24px\">\n",
              "    <path d=\"M0 0h24v24H0V0z\" fill=\"none\"/>\n",
              "    <path d=\"M18.56 5.44l.94 2.06.94-2.06 2.06-.94-2.06-.94-.94-2.06-.94 2.06-2.06.94zm-11 1L8.5 8.5l.94-2.06 2.06-.94-2.06-.94L8.5 2.5l-.94 2.06-2.06.94zm10 10l.94 2.06.94-2.06 2.06-.94-2.06-.94-.94-2.06-.94 2.06-2.06.94z\"/><path d=\"M17.41 7.96l-1.37-1.37c-.4-.4-.92-.59-1.43-.59-.52 0-1.04.2-1.43.59L10.3 9.45l-7.72 7.72c-.78.78-.78 2.05 0 2.83L4 21.41c.39.39.9.59 1.41.59.51 0 1.02-.2 1.41-.59l7.78-7.78 2.81-2.81c.8-.78.8-2.07 0-2.86zM5.41 20L4 18.59l7.72-7.72 1.47 1.35L5.41 20z\"/>\n",
              "  </svg>\n",
              "      </button>\n",
              "      \n",
              "  <style>\n",
              "    .colab-df-container {\n",
              "      display:flex;\n",
              "      flex-wrap:wrap;\n",
              "      gap: 12px;\n",
              "    }\n",
              "\n",
              "    .colab-df-convert {\n",
              "      background-color: #E8F0FE;\n",
              "      border: none;\n",
              "      border-radius: 50%;\n",
              "      cursor: pointer;\n",
              "      display: none;\n",
              "      fill: #1967D2;\n",
              "      height: 32px;\n",
              "      padding: 0 0 0 0;\n",
              "      width: 32px;\n",
              "    }\n",
              "\n",
              "    .colab-df-convert:hover {\n",
              "      background-color: #E2EBFA;\n",
              "      box-shadow: 0px 1px 2px rgba(60, 64, 67, 0.3), 0px 1px 3px 1px rgba(60, 64, 67, 0.15);\n",
              "      fill: #174EA6;\n",
              "    }\n",
              "\n",
              "    [theme=dark] .colab-df-convert {\n",
              "      background-color: #3B4455;\n",
              "      fill: #D2E3FC;\n",
              "    }\n",
              "\n",
              "    [theme=dark] .colab-df-convert:hover {\n",
              "      background-color: #434B5C;\n",
              "      box-shadow: 0px 1px 3px 1px rgba(0, 0, 0, 0.15);\n",
              "      filter: drop-shadow(0px 1px 2px rgba(0, 0, 0, 0.3));\n",
              "      fill: #FFFFFF;\n",
              "    }\n",
              "  </style>\n",
              "\n",
              "      <script>\n",
              "        const buttonEl =\n",
              "          document.querySelector('#df-55f33e5d-5539-4185-b83b-1115ae718908 button.colab-df-convert');\n",
              "        buttonEl.style.display =\n",
              "          google.colab.kernel.accessAllowed ? 'block' : 'none';\n",
              "\n",
              "        async function convertToInteractive(key) {\n",
              "          const element = document.querySelector('#df-55f33e5d-5539-4185-b83b-1115ae718908');\n",
              "          const dataTable =\n",
              "            await google.colab.kernel.invokeFunction('convertToInteractive',\n",
              "                                                     [key], {});\n",
              "          if (!dataTable) return;\n",
              "\n",
              "          const docLinkHtml = 'Like what you see? Visit the ' +\n",
              "            '<a target=\"_blank\" href=https://colab.research.google.com/notebooks/data_table.ipynb>data table notebook</a>'\n",
              "            + ' to learn more about interactive tables.';\n",
              "          element.innerHTML = '';\n",
              "          dataTable['output_type'] = 'display_data';\n",
              "          await google.colab.output.renderOutput(dataTable, element);\n",
              "          const docLink = document.createElement('div');\n",
              "          docLink.innerHTML = docLinkHtml;\n",
              "          element.appendChild(docLink);\n",
              "        }\n",
              "      </script>\n",
              "    </div>\n",
              "  </div>\n",
              "  "
            ]
          },
          "metadata": {},
          "execution_count": 79
        }
      ]
    },
    {
      "cell_type": "markdown",
      "source": [
        "## **Data Visualisation**"
      ],
      "metadata": {
        "id": "Llgr17Bhc4rY"
      }
    },
    {
      "cell_type": "code",
      "source": [
        "Data['cancer'].value_counts()"
      ],
      "metadata": {
        "colab": {
          "base_uri": "https://localhost:8080/"
        },
        "id": "AUghwpwLaQ_c",
        "outputId": "592473f2-32e3-4160-d61b-82ea329ae603"
      },
      "execution_count": null,
      "outputs": [
        {
          "output_type": "execute_result",
          "data": {
            "text/plain": [
              "0    47\n",
              "1    25\n",
              "Name: cancer, dtype: int64"
            ]
          },
          "metadata": {},
          "execution_count": 80
        }
      ]
    },
    {
      "cell_type": "code",
      "source": [
        "labels ='ALL', 'AML'\n",
        "sizes = [47, 25]\n",
        "colors=['lightskyblue','yellow']\n",
        "fig1, ax1 = plt.subplots()\n",
        "ax1.pie(sizes,labels=labels, autopct='%1.1f%%',colors=colors, shadow=True, startangle=90)\n",
        "ax1.axis('equal')  # Equal aspect ratio ensures that pie is drawn as a circle.\n",
        "print('Cancer Classification')\n",
        "plt.show()\n"
      ],
      "metadata": {
        "colab": {
          "base_uri": "https://localhost:8080/",
          "height": 266
        },
        "id": "w-6dtTNwakbb",
        "outputId": "0c8ffeda-b0e5-42d3-8fea-8b6a35d87d2e"
      },
      "execution_count": null,
      "outputs": [
        {
          "output_type": "stream",
          "name": "stdout",
          "text": [
            "Cancer Classification\n"
          ]
        },
        {
          "output_type": "display_data",
          "data": {
            "text/plain": [
              "<Figure size 432x288 with 1 Axes>"
            ],
            "image/png": "[encoded data removed]"
          },
          "metadata": {}
        }
      ]
    },
    {
      "cell_type": "code",
      "source": [
        "sns.countplot(x='cancer',data=Data,palette='bwr')\n",
        "print('0 refers to ALL and 1 refers to AML')"
      ],
      "metadata": {
        "colab": {
          "base_uri": "https://localhost:8080/",
          "height": 296
        },
        "id": "P8PQbBW8ckXK",
        "outputId": "67a3bbb0-16a1-4fa6-d966-61f8a244d148"
      },
      "execution_count": null,
      "outputs": [
        {
          "output_type": "stream",
          "name": "stdout",
          "text": [
            "0 refers to ALL and 1 refers to AML\n"
          ]
        },
        {
          "output_type": "display_data",
          "data": {
            "text/plain": [
              "<Figure size 432x288 with 1 Axes>"
            ],
            "image/png": "[encoded data removed]"
          },
          "metadata": {
            "needs_background": "light"
          }
        }
      ]
    },
    {
      "cell_type": "markdown",
      "source": [
        "## **Data PreProcessing**"
      ],
      "metadata": {
        "id": "ddmL1q30c9Qz"
      }
    },
    {
      "cell_type": "code",
      "source": [
        "#Our next step is to create two variables \n",
        "#X(matrix of independent variables) and y(vector of the dependent variable).\n",
        "\n",
        "X, y = Data.drop(columns=[\"cancer\"]), Data[\"cancer\"]"
      ],
      "metadata": {
        "id": "ImzcSgFA35xC"
      },
      "execution_count": null,
      "outputs": []
    },
    {
      "cell_type": "code",
      "source": [
        "#Next, We split 65% of the data into training set while 35% of the data to test set. \n",
        "#The test_size variable is where we actually specify the proportion of the test set.\n",
        "\n",
        "from sklearn.model_selection import train_test_split\n",
        "X_train, X_test, y_train, y_test =  train_test_split(X,y,test_size = 0.35, random_state= 0)"
      ],
      "metadata": {
        "id": "kJlckJer4HWh"
      },
      "execution_count": null,
      "outputs": []
    },
    {
      "cell_type": "code",
      "source": [
        "#Normalization\n",
        "from sklearn.preprocessing import StandardScaler\n",
        "sc_X = StandardScaler()\n",
        "X_train = sc_X.fit_transform(X_train)\n",
        "X_test = sc_X.transform(X_test)"
      ],
      "metadata": {
        "colab": {
          "base_uri": "https://localhost:8080/"
        },
        "id": "eaOab_5u4M71",
        "outputId": "56fd8103-8a72-44be-c85f-a00f769b7739"
      },
      "execution_count": null,
      "outputs": [
        {
          "output_type": "stream",
          "name": "stderr",
          "text": [
            "/usr/local/lib/python3.7/dist-packages/sklearn/utils/validation.py:1692: FutureWarning: Feature names only support names that are all strings. Got feature names with dtypes: ['int', 'str']. An error will be raised in 1.2.\n",
            "  FutureWarning,\n",
            "/usr/local/lib/python3.7/dist-packages/sklearn/utils/validation.py:1692: FutureWarning: Feature names only support names that are all strings. Got feature names with dtypes: ['int', 'str']. An error will be raised in 1.2.\n",
            "  FutureWarning,\n",
            "/usr/local/lib/python3.7/dist-packages/sklearn/utils/validation.py:1692: FutureWarning: Feature names only support names that are all strings. Got feature names with dtypes: ['int', 'str']. An error will be raised in 1.2.\n",
            "  FutureWarning,\n"
          ]
        }
      ]
    },
    {
      "cell_type": "markdown",
      "source": [
        "## **Dimensionality Reduction**"
      ],
      "metadata": {
        "id": "rPrwuIcD7owE"
      }
    },
    {
      "cell_type": "markdown",
      "source": [
        "The number of columns/features that we have been working with is huge. We have 72 rows and 7129 columns. Basically we need to decrease the number of features(Dimensionality Reduction) to remove the possibility of Curse of Dimensionality.\n",
        "\n",
        "For reducing the number of dimensions/features we will use the most popular dimensionality reduction algorithm i.e. PCA(Principal Component Analysis).\n",
        "\n",
        "To perform PCA we have to choose the number of features/dimensions that we want in our data."
      ],
      "metadata": {
        "id": "C-mWU8ol4f-G"
      }
    },
    {
      "cell_type": "code",
      "source": [
        "from sklearn.decomposition import PCA\n",
        "pca = PCA() \n",
        "X_train = pca.fit_transform(X_train)\n",
        "X_test = pca.transform(X_test)\n",
        "total=sum(pca.explained_variance_)\n",
        "k=0\n",
        "current_variance=0\n",
        "while current_variance/total < 0.90:\n",
        "    current_variance += pca.explained_variance_[k]\n",
        "    k=k+1\n",
        "\n",
        "\n",
        "print(\"k = \",k)"
      ],
      "metadata": {
        "colab": {
          "base_uri": "https://localhost:8080/"
        },
        "id": "yRrgI40i4bO4",
        "outputId": "ffce9a73-5b75-4563-f755-552cbd61cb0a"
      },
      "execution_count": null,
      "outputs": [
        {
          "output_type": "stream",
          "name": "stdout",
          "text": [
            "k =  33\n"
          ]
        }
      ]
    },
    {
      "cell_type": "code",
      "source": [
        "#The above code gives k=33.\n",
        "#Now let us take k=33 and apply PCA on our independent variables.\n",
        "\n",
        "from sklearn.decomposition import PCA\n",
        "pca = PCA(n_components = 33)\n",
        "X_train = pca.fit_transform(X_train)\n",
        "X_test = pca.transform(X_test)\n",
        "cum_sum = pca.explained_variance_ratio_.cumsum()\n",
        "cum_sum = cum_sum*100\n",
        "plt.bar(range(33), cum_sum)\n",
        "plt.ylabel(\"Cumulative Explained Variance\")\n",
        "plt.xlabel(\"Principal Components\")\n",
        "plt.title(\"Around 90% of variance is explained by the First 33 columns \")"
      ],
      "metadata": {
        "colab": {
          "base_uri": "https://localhost:8080/",
          "height": 312
        },
        "id": "wfxveMM64xi7",
        "outputId": "5c33e041-ada8-45c0-8287-9f78542507f4"
      },
      "execution_count": null,
      "outputs": [
        {
          "output_type": "execute_result",
          "data": {
            "text/plain": [
              "Text(0.5, 1.0, 'Around 90% of variance is explained by the First 33 columns ')"
            ]
          },
          "metadata": {},
          "execution_count": 87
        },
        {
          "output_type": "display_data",
          "data": {
            "text/plain": [
              "<Figure size 432x288 with 1 Axes>"
            ],
            "image/png": "[encoded data removed]"
          },
          "metadata": {
            "needs_background": "light"
          }
        }
      ]
    },
    {
      "cell_type": "markdown",
      "source": [
        "### **Using SVM**\n",
        "The next step is to fit our data into the Support Vector Machine(SVM) algorithm but before doing that we will perform Hyperparameter optimization.\n",
        "\n",
        "Hyperparameter optimization or tuning is the problem of choosing a set of optimal hyperparameters for a learning algorithm. A hyperparameter is a parameter whose value is used to control the learning process. By contrast, the values of other parameters are learned.\n",
        "\n",
        "We will use GridSearchCV methhod  from sklearn for choosing the best hyperparameters."
      ],
      "metadata": {
        "id": "mEO5T9Ly5gsu"
      }
    },
    {
      "cell_type": "code",
      "source": [
        "from sklearn.model_selection import GridSearchCV\n",
        "from sklearn.svm import SVC\n",
        "parameters = [{'C': [1, 10, 100, 1000], 'kernel': ['linear']},\n",
        "              {'C': [1, 10, 100, 1000], 'kernel': ['rbf'], 'gamma': [0.1, 0.2, 0.3, 0.4, 0.5, 0.6, 0.7, 0.8, 0.9]}]\n",
        "search = GridSearchCV(SVC(), parameters, n_jobs=-1, verbose=1)\n",
        "search.fit(X_train, y_train)"
      ],
      "metadata": {
        "colab": {
          "base_uri": "https://localhost:8080/"
        },
        "id": "SisVkcZR5p_D",
        "outputId": "b0e5643c-260c-49fe-9dbb-e9969ae694ae"
      },
      "execution_count": null,
      "outputs": [
        {
          "output_type": "stream",
          "name": "stdout",
          "text": [
            "Fitting 5 folds for each of 40 candidates, totalling 200 fits\n"
          ]
        },
        {
          "output_type": "execute_result",
          "data": {
            "text/plain": [
              "GridSearchCV(estimator=SVC(), n_jobs=-1,\n",
              "             param_grid=[{'C': [1, 10, 100, 1000], 'kernel': ['linear']},\n",
              "                         {'C': [1, 10, 100, 1000],\n",
              "                          'gamma': [0.1, 0.2, 0.3, 0.4, 0.5, 0.6, 0.7, 0.8,\n",
              "                                    0.9],\n",
              "                          'kernel': ['rbf']}],\n",
              "             verbose=1)"
            ]
          },
          "metadata": {},
          "execution_count": 88
        }
      ]
    },
    {
      "cell_type": "code",
      "source": [
        "#Checking the best parameter combination\n",
        "best_parameters = search.best_estimator_\n",
        "print(best_parameters)"
      ],
      "metadata": {
        "colab": {
          "base_uri": "https://localhost:8080/"
        },
        "id": "MRksr4rp6LPf",
        "outputId": "26c364f5-9ed2-43b2-d074-03dd84dd0c96"
      },
      "execution_count": null,
      "outputs": [
        {
          "output_type": "stream",
          "name": "stdout",
          "text": [
            "SVC(C=1, kernel='linear')\n"
          ]
        }
      ]
    },
    {
      "cell_type": "code",
      "source": [
        "#Now let's train our SVM classification model.\n",
        "model = SVC(C=1, cache_size=200, class_weight=None, coef0=0.0,\n",
        "    decision_function_shape='ovr', degree=3, gamma='auto',\n",
        "    kernel='linear', max_iter=-1, probability=False, random_state=None,\n",
        "    shrinking=True, tol=0.001, verbose=False)\n",
        "    \n",
        "model.fit(X_train, y_train)"
      ],
      "metadata": {
        "colab": {
          "base_uri": "https://localhost:8080/"
        },
        "id": "roOEoOjC6iam",
        "outputId": "b64de680-51a5-44f4-e1ff-96573f766031"
      },
      "execution_count": null,
      "outputs": [
        {
          "output_type": "execute_result",
          "data": {
            "text/plain": [
              "SVC(C=1, gamma='auto', kernel='linear')"
            ]
          },
          "metadata": {},
          "execution_count": 90
        }
      ]
    },
    {
      "cell_type": "code",
      "source": [
        "#Its time for some predictions:\n",
        "y_pred=model.predict(X_test)"
      ],
      "metadata": {
        "id": "MmzQALJD601y"
      },
      "execution_count": null,
      "outputs": []
    },
    {
      "cell_type": "code",
      "source": [
        "#Evaluating model performance:\n",
        "\n",
        "from sklearn.metrics import accuracy_score, confusion_matrix\n",
        "from sklearn import metrics\n",
        "accsvm = accuracy_score(y_test, y_pred)\n",
        "print('Accuracy Score:',round(accuracy_score(y_test, y_pred),2))\n",
        "#confusion matrix\n",
        "cm = confusion_matrix(y_test, y_pred)"
      ],
      "metadata": {
        "colab": {
          "base_uri": "https://localhost:8080/"
        },
        "id": "zR40lJ9B68y5",
        "outputId": "5cf860ff-9eef-4fb7-a841-f733bc9011ee"
      },
      "execution_count": null,
      "outputs": [
        {
          "output_type": "stream",
          "name": "stdout",
          "text": [
            "Accuracy Score: 0.69\n"
          ]
        }
      ]
    },
    {
      "cell_type": "code",
      "source": [
        "#Confusion matrix and visualize it using Heatmap.\n",
        "\n",
        "class_names=[1,2,3]\n",
        "fig, ax = plt.subplots()\n",
        "from sklearn.metrics import confusion_matrix\n",
        "import seaborn as sns\n",
        "cm = confusion_matrix(y_test, y_pred)\n",
        "class_names=['ALL', 'AML']\n",
        "tick_marks = np.arange(len(class_names))\n",
        "plt.xticks(tick_marks, class_names)\n",
        "plt.yticks(tick_marks, class_names)\n",
        "sns.heatmap(pd.DataFrame(cm), annot=True, cmap=\"viridis\" ,fmt='g')\n",
        "ax.xaxis.set_label_position(\"top\")\n",
        "plt.tight_layout()\n",
        "plt.title('Confusion matrix', y=1.1)\n",
        "plt.ylabel('Actual label')\n",
        "plt.xlabel('Predicted label')"
      ],
      "metadata": {
        "colab": {
          "base_uri": "https://localhost:8080/",
          "height": 338
        },
        "id": "HBfMPDcB7JhA",
        "outputId": "0dcd8813-7714-42e3-9a8e-59ddef981e1d"
      },
      "execution_count": null,
      "outputs": [
        {
          "output_type": "execute_result",
          "data": {
            "text/plain": [
              "Text(0.5, 257.44, 'Predicted label')"
            ]
          },
          "metadata": {},
          "execution_count": 93
        },
        {
          "output_type": "display_data",
          "data": {
            "text/plain": [
              "<Figure size 432x288 with 2 Axes>"
            ],
            "image/png": "[encoded data removed]"
          },
          "metadata": {
            "needs_background": "light"
          }
        }
      ]
    },
    {
      "cell_type": "code",
      "source": [
        "#Classification Report\n",
        "from sklearn.metrics import classification_report\n",
        "print(classification_report(y_test, y_pred))"
      ],
      "metadata": {
        "colab": {
          "base_uri": "https://localhost:8080/"
        },
        "id": "BhHNixE_0IgD",
        "outputId": "0eb62d45-dec8-49b3-d787-37a380952f2b"
      },
      "execution_count": null,
      "outputs": [
        {
          "output_type": "stream",
          "name": "stdout",
          "text": [
            "              precision    recall  f1-score   support\n",
            "\n",
            "           0       0.67      0.86      0.75        14\n",
            "           1       0.75      0.50      0.60        12\n",
            "\n",
            "    accuracy                           0.69        26\n",
            "   macro avg       0.71      0.68      0.68        26\n",
            "weighted avg       0.71      0.69      0.68        26\n",
            "\n"
          ]
        }
      ]
    },
    {
      "cell_type": "markdown",
      "source": [
        "## **Using Decision Trees**\n",
        "\n",
        "Now we'll try fitting our data in Decision Trees algorithm to predict and classify and then compare the results.\n",
        "\n",
        "Decision Tree algorithm belongs to the family of supervised learning algorithms. Unlike other supervised learning algorithms, the decision tree algorithm can be used for solving regression and classification problems too.\n",
        "\n",
        "The goal of using a Decision Tree is to create a training model that can use to predict the class or value of the target variable by learning simple decision rules inferred from prior data(training data).\n",
        "\n",
        "In Decision Trees, for predicting a class label for a record we start from the root of the tree. We compare the values of the root attribute with the record’s attribute. On the basis of comparison, we follow the branch corresponding to that value and jump to the next node."
      ],
      "metadata": {
        "id": "EjZOArJXC4Cu"
      }
    },
    {
      "cell_type": "code",
      "source": [
        "from sklearn.tree import DecisionTreeClassifier\n",
        "classifier = DecisionTreeClassifier()\n",
        "classifier = classifier.fit(X_train,y_train)"
      ],
      "metadata": {
        "id": "UwxymjabJh3J"
      },
      "execution_count": null,
      "outputs": []
    },
    {
      "cell_type": "code",
      "source": [
        "#prediction\n",
        "y_pred = classifier.predict(X_test)#Accuracy\n",
        "from sklearn import metrics\n",
        "\n",
        "accdt = accuracy_score(y_test, y_pred)\n",
        "print('Accuracy Score:', metrics.accuracy_score(y_test,y_pred))"
      ],
      "metadata": {
        "colab": {
          "base_uri": "https://localhost:8080/"
        },
        "id": "si7cLC7zJoAq",
        "outputId": "da55b4db-2ed2-49fa-c11c-b52ccbaccd60"
      },
      "execution_count": null,
      "outputs": [
        {
          "output_type": "stream",
          "name": "stdout",
          "text": [
            "Accuracy Score: 0.6153846153846154\n"
          ]
        }
      ]
    },
    {
      "cell_type": "code",
      "source": [
        "#Confusion matrix \n",
        "\n",
        "class_names=[1,2,3]\n",
        "fig, ax = plt.subplots()\n",
        "from sklearn.metrics import confusion_matrix\n",
        "import seaborn as sns\n",
        "cm = confusion_matrix(y_test, y_pred)\n",
        "print(cm)\n",
        "class_names=['ALL', 'AML']\n",
        "tick_marks = np.arange(len(class_names))\n",
        "plt.xticks(tick_marks, class_names)\n",
        "plt.yticks(tick_marks, class_names)\n",
        "sns.heatmap(pd.DataFrame(cm), annot=True, cmap=\"viridis\" ,fmt='g')\n",
        "ax.xaxis.set_label_position(\"top\")\n",
        "plt.tight_layout()\n",
        "plt.title('Confusion matrix', y=1.1)\n",
        "plt.ylabel('Actual label')\n",
        "plt.xlabel('Predicted label')"
      ],
      "metadata": {
        "colab": {
          "base_uri": "https://localhost:8080/",
          "height": 373
        },
        "id": "HX4Lf5YDKN0U",
        "outputId": "636c08a0-a5b9-4087-e1dc-b11f41cc25a4"
      },
      "execution_count": null,
      "outputs": [
        {
          "output_type": "stream",
          "name": "stdout",
          "text": [
            "[[10  4]\n",
            " [ 6  6]]\n"
          ]
        },
        {
          "output_type": "execute_result",
          "data": {
            "text/plain": [
              "Text(0.5, 257.44, 'Predicted label')"
            ]
          },
          "metadata": {},
          "execution_count": 97
        },
        {
          "output_type": "display_data",
          "data": {
            "text/plain": [
              "<Figure size 432x288 with 2 Axes>"
            ],
            "image/png": "[encoded data removed]"
          },
          "metadata": {
            "needs_background": "light"
          }
        }
      ]
    },
    {
      "cell_type": "code",
      "source": [
        "from sklearn.tree import export_graphviz\n",
        "from six import StringIO  \n",
        "from IPython.display import Image  \n",
        "import pydotplus\n",
        "dot_data = StringIO()\n",
        "export_graphviz(classifier, out_file=dot_data,  \n",
        "                filled=True, rounded=True,\n",
        "                special_characters=True,class_names=['0','1'])\n",
        "graph = pydotplus.graph_from_dot_data(dot_data.getvalue())  \n",
        "Image(graph.create_png())"
      ],
      "metadata": {
        "colab": {
          "base_uri": "https://localhost:8080/",
          "height": 726
        },
        "id": "wL6xzOpxKqed",
        "outputId": "8003ef33-2340-4b73-9864-4fb9a11b621b"
      },
      "execution_count": null,
      "outputs": [
        {
          "output_type": "execute_result",
          "data": {
            "text/plain": [
              "<IPython.core.display.Image object>"
            ],
            "image/png": "[encoded data removed]"
          },
          "metadata": {},
          "execution_count": 98
        }
      ]
    },
    {
      "cell_type": "code",
      "source": [
        "#Classification Report\n",
        "from sklearn.metrics import classification_report\n",
        "print(classification_report(y_test, y_pred))"
      ],
      "metadata": {
        "colab": {
          "base_uri": "https://localhost:8080/"
        },
        "id": "falck1Sq0l-O",
        "outputId": "ee8ba754-f01e-4621-95c4-e0fd7fe2c8c6"
      },
      "execution_count": null,
      "outputs": [
        {
          "output_type": "stream",
          "name": "stdout",
          "text": [
            "              precision    recall  f1-score   support\n",
            "\n",
            "           0       0.62      0.71      0.67        14\n",
            "           1       0.60      0.50      0.55        12\n",
            "\n",
            "    accuracy                           0.62        26\n",
            "   macro avg       0.61      0.61      0.61        26\n",
            "weighted avg       0.61      0.62      0.61        26\n",
            "\n"
          ]
        }
      ]
    },
    {
      "cell_type": "markdown",
      "source": [
        "## **Using Random Forest Classifier**\n",
        "\n",
        "Random forests is a supervised learning algorithm. It can be used both for classification and regression. It is also the most flexible and easy to use algorithm. A forest is comprised of trees. It is said that the more trees it has, the more robust a forest is. \n",
        "\n",
        "Random forests creates decision trees on randomly selected data samples, gets prediction from each tree and selects the best solution by means of voting."
      ],
      "metadata": {
        "id": "vFU1od9lKM6W"
      }
    },
    {
      "cell_type": "code",
      "source": [
        "#Import Random Forest Model\n",
        "from sklearn.ensemble import RandomForestClassifier\n",
        "#Create a Gaussian Classifier\n",
        "clf=RandomForestClassifier(n_estimators=100)\n",
        "\n",
        "#Train the model using the training sets y_pred=clf.predict(X_test)\n",
        "clf.fit(X_train,y_train)\n",
        "\n",
        "y_pred=clf.predict(X_test)\n",
        "\n",
        "accrfc = accuracy_score(y_test, y_pred)"
      ],
      "metadata": {
        "id": "wqmAmdooNeg-"
      },
      "execution_count": null,
      "outputs": []
    },
    {
      "cell_type": "code",
      "source": [
        "print(\"Accuracy:\",metrics.accuracy_score(y_test, y_pred))"
      ],
      "metadata": {
        "colab": {
          "base_uri": "https://localhost:8080/"
        },
        "id": "ppa98BWJN5bZ",
        "outputId": "9a8f902d-c6e9-4989-9b73-e5ecba3cc2c4"
      },
      "execution_count": null,
      "outputs": [
        {
          "output_type": "stream",
          "name": "stdout",
          "text": [
            "Accuracy: 0.5384615384615384\n"
          ]
        }
      ]
    },
    {
      "cell_type": "code",
      "source": [
        "#Confusion matrix and visualize it using Heatmap.\n",
        "\n",
        "class_names=[1,2,3]\n",
        "fig, ax = plt.subplots()\n",
        "from sklearn.metrics import confusion_matrix\n",
        "import seaborn as sns\n",
        "cm = confusion_matrix(y_test, y_pred)\n",
        "print(cm)\n",
        "class_names=['ALL', 'AML']\n",
        "tick_marks = np.arange(len(class_names))\n",
        "plt.xticks(tick_marks, class_names)\n",
        "plt.yticks(tick_marks, class_names)\n",
        "sns.heatmap(pd.DataFrame(cm), annot=True, cmap=\"viridis\" ,fmt='g')\n",
        "ax.xaxis.set_label_position(\"top\")\n",
        "plt.tight_layout()\n",
        "plt.title('Confusion matrix', y=1.1)\n",
        "plt.ylabel('Actual label')\n",
        "plt.xlabel('Predicted label')"
      ],
      "metadata": {
        "colab": {
          "base_uri": "https://localhost:8080/",
          "height": 373
        },
        "id": "ke2bsfbHPSrL",
        "outputId": "bed95bc6-cf66-4df4-a37f-25fef225c2d2"
      },
      "execution_count": null,
      "outputs": [
        {
          "output_type": "stream",
          "name": "stdout",
          "text": [
            "[[14  0]\n",
            " [12  0]]\n"
          ]
        },
        {
          "output_type": "execute_result",
          "data": {
            "text/plain": [
              "Text(0.5, 257.44, 'Predicted label')"
            ]
          },
          "metadata": {},
          "execution_count": 102
        },
        {
          "output_type": "display_data",
          "data": {
            "text/plain": [
              "<Figure size 432x288 with 2 Axes>"
            ],
            "image/png": "[encoded data removed]"
          },
          "metadata": {
            "needs_background": "light"
          }
        }
      ]
    },
    {
      "cell_type": "code",
      "source": [
        "#Classification Report\n",
        "from sklearn.metrics import classification_report\n",
        "print(classification_report(y_test, y_pred))"
      ],
      "metadata": {
        "colab": {
          "base_uri": "https://localhost:8080/"
        },
        "id": "E2YerZ5N0npE",
        "outputId": "d56d882d-462e-4507-a668-32c0b2296812"
      },
      "execution_count": null,
      "outputs": [
        {
          "output_type": "stream",
          "name": "stdout",
          "text": [
            "              precision    recall  f1-score   support\n",
            "\n",
            "           0       0.54      1.00      0.70        14\n",
            "           1       0.00      0.00      0.00        12\n",
            "\n",
            "    accuracy                           0.54        26\n",
            "   macro avg       0.27      0.50      0.35        26\n",
            "weighted avg       0.29      0.54      0.38        26\n",
            "\n"
          ]
        },
        {
          "output_type": "stream",
          "name": "stderr",
          "text": [
            "/usr/local/lib/python3.7/dist-packages/sklearn/metrics/_classification.py:1318: UndefinedMetricWarning: Precision and F-score are ill-defined and being set to 0.0 in labels with no predicted samples. Use `zero_division` parameter to control this behavior.\n",
            "  _warn_prf(average, modifier, msg_start, len(result))\n",
            "/usr/local/lib/python3.7/dist-packages/sklearn/metrics/_classification.py:1318: UndefinedMetricWarning: Precision and F-score are ill-defined and being set to 0.0 in labels with no predicted samples. Use `zero_division` parameter to control this behavior.\n",
            "  _warn_prf(average, modifier, msg_start, len(result))\n",
            "/usr/local/lib/python3.7/dist-packages/sklearn/metrics/_classification.py:1318: UndefinedMetricWarning: Precision and F-score are ill-defined and being set to 0.0 in labels with no predicted samples. Use `zero_division` parameter to control this behavior.\n",
            "  _warn_prf(average, modifier, msg_start, len(result))\n"
          ]
        }
      ]
    },
    {
      "cell_type": "markdown",
      "source": [
        "## **Using Gradient Boosting**\n",
        "\n",
        "Boosting:The principle behind boosting algorithms is first we built a model on the training dataset, then a second model is built to rectify the errors present in the first model.\n",
        "\n",
        "The main idea behind this algorithm is to build models sequentially and these subsequent models try to reduce the errors of the previous model. This is done by building a new model on the errors or residuals of the previous model."
      ],
      "metadata": {
        "id": "z-SYZp5GPSRd"
      }
    },
    {
      "cell_type": "code",
      "source": [
        "from sklearn.ensemble import GradientBoostingClassifier\n",
        "gradient_booster = GradientBoostingClassifier(learning_rate=0.1)\n",
        "gradient_booster.fit(X_train,y_train)\n",
        "y_pred=gradient_booster.predict(X_test)\n",
        "\n",
        "accgb = accuracy_score(y_test, y_pred)\n",
        "print(\"Accuracy:\",metrics.accuracy_score(y_test, y_pred))"
      ],
      "metadata": {
        "colab": {
          "base_uri": "https://localhost:8080/"
        },
        "id": "qNtx49etQ58q",
        "outputId": "3ad19602-0b69-450a-a469-e007555c27f3"
      },
      "execution_count": null,
      "outputs": [
        {
          "output_type": "stream",
          "name": "stdout",
          "text": [
            "Accuracy: 0.5384615384615384\n"
          ]
        }
      ]
    },
    {
      "cell_type": "code",
      "source": [
        "#Confusion matrix and visualize it using Heatmap.\n",
        "\n",
        "class_names=[1,2,3]\n",
        "fig, ax = plt.subplots()\n",
        "from sklearn.metrics import confusion_matrix\n",
        "import seaborn as sns\n",
        "cm = confusion_matrix(y_test, y_pred)\n",
        "print(cm)\n",
        "class_names=['ALL', 'AML']\n",
        "tick_marks = np.arange(len(class_names))\n",
        "plt.xticks(tick_marks, class_names)\n",
        "plt.yticks(tick_marks, class_names)\n",
        "sns.heatmap(pd.DataFrame(cm), annot=True, cmap=\"viridis\" ,fmt='g')\n",
        "ax.xaxis.set_label_position(\"top\")\n",
        "plt.tight_layout()\n",
        "plt.title('Confusion matrix', y=1.1)\n",
        "plt.ylabel('Actual label')\n",
        "plt.xlabel('Predicted label')"
      ],
      "metadata": {
        "colab": {
          "base_uri": "https://localhost:8080/",
          "height": 373
        },
        "id": "ld4D7exnRWCJ",
        "outputId": "76329a07-c2c0-4c26-f544-3a8b94d3f540"
      },
      "execution_count": null,
      "outputs": [
        {
          "output_type": "stream",
          "name": "stdout",
          "text": [
            "[[10  4]\n",
            " [ 8  4]]\n"
          ]
        },
        {
          "output_type": "execute_result",
          "data": {
            "text/plain": [
              "Text(0.5, 257.44, 'Predicted label')"
            ]
          },
          "metadata": {},
          "execution_count": 105
        },
        {
          "output_type": "display_data",
          "data": {
            "text/plain": [
              "<Figure size 432x288 with 2 Axes>"
            ],
            "image/png": "[encoded data removed]"
          },
          "metadata": {
            "needs_background": "light"
          }
        }
      ]
    },
    {
      "cell_type": "code",
      "source": [
        "#Classification Report\n",
        "from sklearn.metrics import classification_report\n",
        "print(classification_report(y_test, y_pred))"
      ],
      "metadata": {
        "colab": {
          "base_uri": "https://localhost:8080/"
        },
        "id": "cwY3p5750o6S",
        "outputId": "6e1010ac-283b-402f-bd75-db49f00a8982"
      },
      "execution_count": null,
      "outputs": [
        {
          "output_type": "stream",
          "name": "stdout",
          "text": [
            "              precision    recall  f1-score   support\n",
            "\n",
            "           0       0.56      0.71      0.63        14\n",
            "           1       0.50      0.33      0.40        12\n",
            "\n",
            "    accuracy                           0.54        26\n",
            "   macro avg       0.53      0.52      0.51        26\n",
            "weighted avg       0.53      0.54      0.52        26\n",
            "\n"
          ]
        }
      ]
    },
    {
      "cell_type": "markdown",
      "source": [
        "## **Using KNN Algorithm**\n",
        "K-nearest neighbors (KNN) is a type of supervised learning machine learning algorithm and is used for both regression and classification tasks. \n",
        "\n",
        "KNN is used to make predictions on the test data set based on the characteristics of the current training data points. This is done by calculating the distance between the test data and training data, assuming that similar things exist within close proximity. \n",
        "\n",
        "The algorithm will have stored learned data, making it more effective at predicting and categorising new data points. When a new data point is inputted, the KNN algorithm will learn its characteristics/features. It will then place the new data point at closer proximity to the current training data points that share the same characteristics or features."
      ],
      "metadata": {
        "id": "HPJBSPMQRdu9"
      }
    },
    {
      "cell_type": "code",
      "source": [
        "from sklearn.neighbors import KNeighborsClassifier\n",
        "classifier = KNeighborsClassifier(n_neighbors=5)\n",
        "classifier.fit(X_train, y_train)\n",
        "y_pred = classifier.predict(X_test)\n",
        "\n",
        "\n",
        "accknn = accuracy_score(y_test, y_pred)\n",
        "print(\"Accuracy:\",metrics.accuracy_score(y_test, y_pred))\n",
        "\n",
        " "
      ],
      "metadata": {
        "colab": {
          "base_uri": "https://localhost:8080/"
        },
        "id": "xWJGTq9CRjMO",
        "outputId": "edf1c461-6611-4c56-c325-ad7f3fb92a79"
      },
      "execution_count": null,
      "outputs": [
        {
          "output_type": "stream",
          "name": "stdout",
          "text": [
            "Accuracy: 0.5384615384615384\n"
          ]
        }
      ]
    },
    {
      "cell_type": "code",
      "source": [
        "#Confusion matrix and visualize it using Heatmap.\n",
        "\n",
        "class_names=[1,2,3]\n",
        "fig, ax = plt.subplots()\n",
        "from sklearn.metrics import confusion_matrix\n",
        "import seaborn as sns\n",
        "cm = confusion_matrix(y_test, y_pred)\n",
        "print(cm)\n",
        "class_names=['ALL', 'AML']\n",
        "tick_marks = np.arange(len(class_names))\n",
        "plt.xticks(tick_marks, class_names)\n",
        "plt.yticks(tick_marks, class_names)\n",
        "sns.heatmap(pd.DataFrame(cm), annot=True, cmap=\"viridis\" ,fmt='g')\n",
        "ax.xaxis.set_label_position(\"top\")\n",
        "plt.tight_layout()\n",
        "plt.title('Confusion matrix', y=1.1)\n",
        "plt.ylabel('Actual label')\n",
        "plt.xlabel('Predicted label')"
      ],
      "metadata": {
        "colab": {
          "base_uri": "https://localhost:8080/",
          "height": 373
        },
        "id": "VuYKXZv5SSwx",
        "outputId": "9c8899fd-6d44-40c5-bf72-5d942e0d3053"
      },
      "execution_count": null,
      "outputs": [
        {
          "output_type": "stream",
          "name": "stdout",
          "text": [
            "[[14  0]\n",
            " [12  0]]\n"
          ]
        },
        {
          "output_type": "execute_result",
          "data": {
            "text/plain": [
              "Text(0.5, 257.44, 'Predicted label')"
            ]
          },
          "metadata": {},
          "execution_count": 108
        },
        {
          "output_type": "display_data",
          "data": {
            "text/plain": [
              "<Figure size 432x288 with 2 Axes>"
            ],
            "image/png": "[encoded data removed]"
          },
          "metadata": {
            "needs_background": "light"
          }
        }
      ]
    },
    {
      "cell_type": "code",
      "source": [
        "#Classification Report\n",
        "from sklearn.metrics import classification_report\n",
        "print(classification_report(y_test, y_pred))"
      ],
      "metadata": {
        "colab": {
          "base_uri": "https://localhost:8080/"
        },
        "id": "NdcvBXeC0qFA",
        "outputId": "bf878dab-6c86-42fe-e93f-313e417f2a63"
      },
      "execution_count": null,
      "outputs": [
        {
          "output_type": "stream",
          "name": "stdout",
          "text": [
            "              precision    recall  f1-score   support\n",
            "\n",
            "           0       0.54      1.00      0.70        14\n",
            "           1       0.00      0.00      0.00        12\n",
            "\n",
            "    accuracy                           0.54        26\n",
            "   macro avg       0.27      0.50      0.35        26\n",
            "weighted avg       0.29      0.54      0.38        26\n",
            "\n"
          ]
        },
        {
          "output_type": "stream",
          "name": "stderr",
          "text": [
            "/usr/local/lib/python3.7/dist-packages/sklearn/metrics/_classification.py:1318: UndefinedMetricWarning: Precision and F-score are ill-defined and being set to 0.0 in labels with no predicted samples. Use `zero_division` parameter to control this behavior.\n",
            "  _warn_prf(average, modifier, msg_start, len(result))\n",
            "/usr/local/lib/python3.7/dist-packages/sklearn/metrics/_classification.py:1318: UndefinedMetricWarning: Precision and F-score are ill-defined and being set to 0.0 in labels with no predicted samples. Use `zero_division` parameter to control this behavior.\n",
            "  _warn_prf(average, modifier, msg_start, len(result))\n",
            "/usr/local/lib/python3.7/dist-packages/sklearn/metrics/_classification.py:1318: UndefinedMetricWarning: Precision and F-score are ill-defined and being set to 0.0 in labels with no predicted samples. Use `zero_division` parameter to control this behavior.\n",
            "  _warn_prf(average, modifier, msg_start, len(result))\n"
          ]
        }
      ]
    },
    {
      "cell_type": "markdown",
      "source": [
        "## **Comparing the Algorithms based on their Accuracies**\n",
        "After implementing these various algorithms on our dataset, we're comparing the accuracies of each dataset and then deciding the best algorithm model for our dataset classification."
      ],
      "metadata": {
        "id": "sV9MLNcvUOJo"
      }
    },
    {
      "cell_type": "code",
      "source": [
        "import matplotlib.pyplot as plt\n",
        "fig = plt.figure()\n",
        "ax = fig.add_axes([0,0,1,1])\n",
        "algs = ['SVM', 'Decision Trees', 'Random Forest', 'Gradient Boosting', 'KNN']\n",
        "accuracy_scores = [accsvm,accdt,accrfc,accgb,accknn]\n",
        "ax.bar(algs,accuracy_scores)\n",
        "ax.set_title('Accuracy Comparison')\n",
        "plt.show()"
      ],
      "metadata": {
        "colab": {
          "base_uri": "https://localhost:8080/",
          "height": 352
        },
        "id": "IPdTrtAHUohA",
        "outputId": "ce3a4cf8-a465-4722-b9f1-48a65dcf785d"
      },
      "execution_count": null,
      "outputs": [
        {
          "output_type": "display_data",
          "data": {
            "text/plain": [
              "<Figure size 432x288 with 1 Axes>"
            ],
            "image/png": "[encoded data removed]"
          },
          "metadata": {
            "needs_background": "light"
          }
        }
      ]
    }
  ]
}